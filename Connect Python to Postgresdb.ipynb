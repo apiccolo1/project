{
 "cells": [
  {
   "cell_type": "code",
   "execution_count": 5,
   "metadata": {},
   "outputs": [
    {
     "name": "stdout",
     "output_type": "stream",
     "text": [
      "Collecting pandasNote: you may need to restart the kernel to use updated packages.\n",
      "\n",
      "  Downloading pandas-2.0.0-cp311-cp311-win_amd64.whl (11.2 MB)\n",
      "     ---------------------------------------- 0.0/11.2 MB ? eta -:--:--\n",
      "      --------------------------------------- 0.3/11.2 MB 8.3 MB/s eta 0:00:02\n",
      "     -- ------------------------------------- 0.6/11.2 MB 7.1 MB/s eta 0:00:02\n",
      "     --- ------------------------------------ 0.9/11.2 MB 6.8 MB/s eta 0:00:02\n",
      "     --- ------------------------------------ 1.0/11.2 MB 5.7 MB/s eta 0:00:02\n",
      "     ----- ---------------------------------- 1.4/11.2 MB 6.5 MB/s eta 0:00:02\n",
      "     ------ --------------------------------- 1.7/11.2 MB 6.5 MB/s eta 0:00:02\n",
      "     ------- -------------------------------- 2.0/11.2 MB 6.4 MB/s eta 0:00:02\n",
      "     -------- ------------------------------- 2.3/11.2 MB 6.4 MB/s eta 0:00:02\n",
      "     --------- ------------------------------ 2.6/11.2 MB 6.4 MB/s eta 0:00:02\n",
      "     ---------- ----------------------------- 2.9/11.2 MB 6.4 MB/s eta 0:00:02\n",
      "     ----------- ---------------------------- 3.2/11.2 MB 6.4 MB/s eta 0:00:02\n",
      "     ------------ --------------------------- 3.5/11.2 MB 6.4 MB/s eta 0:00:02\n",
      "     ------------- -------------------------- 3.8/11.2 MB 6.5 MB/s eta 0:00:02\n",
      "     -------------- ------------------------- 4.1/11.2 MB 6.5 MB/s eta 0:00:02\n",
      "     --------------- ------------------------ 4.4/11.2 MB 6.4 MB/s eta 0:00:02\n",
      "     ---------------- ----------------------- 4.7/11.2 MB 6.4 MB/s eta 0:00:02\n",
      "     ----------------- ---------------------- 5.0/11.2 MB 6.5 MB/s eta 0:00:01\n",
      "     ------------------ --------------------- 5.3/11.2 MB 6.5 MB/s eta 0:00:01\n",
      "     ------------------- -------------------- 5.6/11.2 MB 6.5 MB/s eta 0:00:01\n",
      "     -------------------- ------------------- 5.8/11.2 MB 6.3 MB/s eta 0:00:01\n",
      "     ---------------------- ----------------- 6.2/11.2 MB 6.5 MB/s eta 0:00:01\n",
      "     ----------------------- ---------------- 6.5/11.2 MB 6.5 MB/s eta 0:00:01\n",
      "     ------------------------ --------------- 6.8/11.2 MB 6.5 MB/s eta 0:00:01\n",
      "     ------------------------- -------------- 7.0/11.2 MB 6.4 MB/s eta 0:00:01\n",
      "     -------------------------- ------------- 7.3/11.2 MB 6.4 MB/s eta 0:00:01\n",
      "     --------------------------- ------------ 7.6/11.2 MB 6.4 MB/s eta 0:00:01\n",
      "     ---------------------------- ----------- 7.9/11.2 MB 6.4 MB/s eta 0:00:01\n",
      "     ----------------------------- ---------- 8.2/11.2 MB 6.4 MB/s eta 0:00:01\n",
      "     ------------------------------ --------- 8.5/11.2 MB 6.4 MB/s eta 0:00:01\n",
      "     ------------------------------- -------- 8.8/11.2 MB 6.4 MB/s eta 0:00:01\n",
      "     -------------------------------- ------- 9.1/11.2 MB 6.4 MB/s eta 0:00:01\n",
      "     --------------------------------- ------ 9.3/11.2 MB 6.4 MB/s eta 0:00:01\n",
      "     ---------------------------------- ----- 9.7/11.2 MB 6.4 MB/s eta 0:00:01\n",
      "     ----------------------------------- ---- 10.0/11.2 MB 6.4 MB/s eta 0:00:01\n",
      "     ------------------------------------ --- 10.2/11.2 MB 6.3 MB/s eta 0:00:01\n",
      "     ------------------------------------- -- 10.5/11.2 MB 6.4 MB/s eta 0:00:01\n",
      "     -------------------------------------- - 10.8/11.2 MB 6.3 MB/s eta 0:00:01\n",
      "     ---------------------------------------  11.1/11.2 MB 6.4 MB/s eta 0:00:01\n",
      "     ---------------------------------------  11.2/11.2 MB 6.4 MB/s eta 0:00:01\n",
      "     ---------------------------------------- 11.2/11.2 MB 6.1 MB/s eta 0:00:00\n",
      "Requirement already satisfied: python-dateutil>=2.8.2 in c:\\users\\aaron\\appdata\\local\\programs\\python\\python311\\lib\\site-packages (from pandas) (2.8.2)\n",
      "Collecting pytz>=2020.1\n",
      "  Downloading pytz-2023.3-py2.py3-none-any.whl (502 kB)\n",
      "     ---------------------------------------- 0.0/502.3 kB ? eta -:--:--\n",
      "     ------------------- ------------------ 256.0/502.3 kB 7.9 MB/s eta 0:00:01\n",
      "     -------------------------------------- 502.3/502.3 kB 6.3 MB/s eta 0:00:00\n",
      "Collecting tzdata>=2022.1\n",
      "  Downloading tzdata-2023.3-py2.py3-none-any.whl (341 kB)\n",
      "     ---------------------------------------- 0.0/341.8 kB ? eta -:--:--\n",
      "     ---------------------------------- --- 307.2/341.8 kB 6.3 MB/s eta 0:00:01\n",
      "     -------------------------------------- 341.8/341.8 kB 5.3 MB/s eta 0:00:00\n",
      "Collecting numpy>=1.21.0\n",
      "  Downloading numpy-1.24.2-cp311-cp311-win_amd64.whl (14.8 MB)\n",
      "     ---------------------------------------- 0.0/14.8 MB ? eta -:--:--\n",
      "      --------------------------------------- 0.3/14.8 MB 6.7 MB/s eta 0:00:03\n",
      "     - -------------------------------------- 0.6/14.8 MB 6.6 MB/s eta 0:00:03\n",
      "     -- ------------------------------------- 0.9/14.8 MB 6.5 MB/s eta 0:00:03\n",
      "     --- ------------------------------------ 1.2/14.8 MB 6.5 MB/s eta 0:00:03\n",
      "     ---- ----------------------------------- 1.5/14.8 MB 6.3 MB/s eta 0:00:03\n",
      "     ---- ----------------------------------- 1.8/14.8 MB 6.4 MB/s eta 0:00:03\n",
      "     ----- ---------------------------------- 2.1/14.8 MB 6.4 MB/s eta 0:00:02\n",
      "     ------ --------------------------------- 2.4/14.8 MB 6.4 MB/s eta 0:00:02\n",
      "     ------- -------------------------------- 2.7/14.8 MB 6.4 MB/s eta 0:00:02\n",
      "     -------- ------------------------------- 3.0/14.8 MB 6.3 MB/s eta 0:00:02\n",
      "     -------- ------------------------------- 3.3/14.8 MB 6.4 MB/s eta 0:00:02\n",
      "     --------- ------------------------------ 3.6/14.8 MB 6.4 MB/s eta 0:00:02\n",
      "     ---------- ----------------------------- 3.9/14.8 MB 6.4 MB/s eta 0:00:02\n",
      "     ----------- ---------------------------- 4.2/14.8 MB 6.4 MB/s eta 0:00:02\n",
      "     ------------ --------------------------- 4.5/14.8 MB 6.4 MB/s eta 0:00:02\n",
      "     ------------ --------------------------- 4.8/14.8 MB 6.4 MB/s eta 0:00:02\n",
      "     ------------- -------------------------- 5.1/14.8 MB 6.4 MB/s eta 0:00:02\n",
      "     -------------- ------------------------- 5.4/14.8 MB 6.4 MB/s eta 0:00:02\n",
      "     --------------- ------------------------ 5.7/14.8 MB 6.4 MB/s eta 0:00:02\n",
      "     ---------------- ----------------------- 6.0/14.8 MB 6.4 MB/s eta 0:00:02\n",
      "     ---------------- ----------------------- 6.3/14.8 MB 6.4 MB/s eta 0:00:02\n",
      "     ----------------- ---------------------- 6.6/14.8 MB 6.4 MB/s eta 0:00:02\n",
      "     ------------------ --------------------- 6.9/14.8 MB 6.4 MB/s eta 0:00:02\n",
      "     ------------------- -------------------- 7.2/14.8 MB 6.4 MB/s eta 0:00:02\n",
      "     -------------------- ------------------- 7.4/14.8 MB 6.4 MB/s eta 0:00:02\n",
      "     -------------------- ------------------- 7.8/14.8 MB 6.4 MB/s eta 0:00:02\n",
      "     --------------------- ------------------ 8.0/14.8 MB 6.4 MB/s eta 0:00:02\n",
      "     ---------------------- ----------------- 8.3/14.8 MB 6.4 MB/s eta 0:00:02\n",
      "     ----------------------- ---------------- 8.7/14.8 MB 6.4 MB/s eta 0:00:01\n",
      "     ------------------------ --------------- 8.9/14.8 MB 6.4 MB/s eta 0:00:01\n",
      "     ------------------------ --------------- 9.2/14.8 MB 6.4 MB/s eta 0:00:01\n",
      "     ------------------------- -------------- 9.5/14.8 MB 6.4 MB/s eta 0:00:01\n",
      "     -------------------------- ------------- 9.8/14.8 MB 6.4 MB/s eta 0:00:01\n",
      "     --------------------------- ------------ 10.1/14.8 MB 6.4 MB/s eta 0:00:01\n",
      "     ---------------------------- ----------- 10.4/14.8 MB 6.4 MB/s eta 0:00:01\n",
      "     ---------------------------- ----------- 10.7/14.8 MB 6.4 MB/s eta 0:00:01\n",
      "     ----------------------------- ---------- 11.0/14.8 MB 6.4 MB/s eta 0:00:01\n",
      "     ------------------------------ --------- 11.2/14.8 MB 6.3 MB/s eta 0:00:01\n",
      "     ------------------------------ --------- 11.5/14.8 MB 6.3 MB/s eta 0:00:01\n",
      "     ------------------------------- -------- 11.7/14.8 MB 6.3 MB/s eta 0:00:01\n",
      "     -------------------------------- ------- 12.0/14.8 MB 6.3 MB/s eta 0:00:01\n",
      "     --------------------------------- ------ 12.3/14.8 MB 6.3 MB/s eta 0:00:01\n",
      "     ---------------------------------- ----- 12.6/14.8 MB 6.3 MB/s eta 0:00:01\n",
      "     ---------------------------------- ----- 12.9/14.8 MB 6.3 MB/s eta 0:00:01\n",
      "     ----------------------------------- ---- 13.2/14.8 MB 6.2 MB/s eta 0:00:01\n",
      "     ------------------------------------ --- 13.5/14.8 MB 6.3 MB/s eta 0:00:01\n",
      "     ------------------------------------- -- 13.8/14.8 MB 6.2 MB/s eta 0:00:01\n",
      "     ------------------------------------- -- 14.1/14.8 MB 6.2 MB/s eta 0:00:01\n",
      "     -------------------------------------- - 14.4/14.8 MB 6.2 MB/s eta 0:00:01\n",
      "     ---------------------------------------  14.7/14.8 MB 6.2 MB/s eta 0:00:01\n",
      "     ---------------------------------------  14.8/14.8 MB 6.3 MB/s eta 0:00:01\n",
      "     ---------------------------------------  14.8/14.8 MB 6.3 MB/s eta 0:00:01\n",
      "     ---------------------------------------  14.8/14.8 MB 6.3 MB/s eta 0:00:01\n",
      "     ---------------------------------------  14.8/14.8 MB 6.3 MB/s eta 0:00:01\n",
      "     ---------------------------------------- 14.8/14.8 MB 5.6 MB/s eta 0:00:00\n",
      "Requirement already satisfied: six>=1.5 in c:\\users\\aaron\\appdata\\local\\programs\\python\\python311\\lib\\site-packages (from python-dateutil>=2.8.2->pandas) (1.16.0)\n",
      "Installing collected packages: pytz, tzdata, numpy, pandas\n",
      "Successfully installed numpy-1.24.2 pandas-2.0.0 pytz-2023.3 tzdata-2023.3\n"
     ]
    }
   ],
   "source": [
    "pip install pandas\n"
   ]
  },
  {
   "cell_type": "code",
   "execution_count": 7,
   "metadata": {},
   "outputs": [
    {
     "name": "stdout",
     "output_type": "stream",
     "text": [
      "Requirement already satisfied: psycopg2 in c:\\users\\aaron\\appdata\\local\\programs\\python\\python311\\lib\\site-packages (2.9.6)Note: you may need to restart the kernel to use updated packages.\n",
      "\n"
     ]
    }
   ],
   "source": [
    "pip install psycopg2"
   ]
  },
  {
   "cell_type": "code",
   "execution_count": 8,
   "metadata": {},
   "outputs": [],
   "source": [
    "#importing relevant libraries, psycopg2 is used to connect to databases#\n",
    "import psycopg2\n",
    "import pandas as pd"
   ]
  },
  {
   "cell_type": "code",
   "execution_count": 9,
   "metadata": {},
   "outputs": [],
   "source": [
    "#try/except is used to try code and comeback with an error code for the issue#\n",
    "try:\n",
    "    conn = psycopg2.connect(\"host=localhost dbname=postgres user=postgres password=password\")\n",
    "except psycopg2.Error as e:\n",
    "    print (\"Error: Could not make connection to the Postgres database\") \n",
    "    print (E)   "
   ]
  },
  {
   "cell_type": "code",
   "execution_count": 10,
   "metadata": {},
   "outputs": [],
   "source": [
    "#cursor is used as a 'cursor', as it indicates relevant objects as if they are being highlighted#\n",
    "try:\n",
    "    cur = conn.cursor()\n",
    "except psycopg2.Error as e:\n",
    "    print(\"Error: Could not get curser to the Database\")\n",
    "    print(e)"
   ]
  },
  {
   "cell_type": "code",
   "execution_count": 11,
   "metadata": {},
   "outputs": [],
   "source": [
    "#committing is normally required after every command to finalise an input, auto commit makes this automatic#\n",
    "conn.set_session(autocommit=True)"
   ]
  },
  {
   "cell_type": "code",
   "execution_count": 12,
   "metadata": {},
   "outputs": [],
   "source": [
    "#execute command is used to execute SQL commands#\n",
    "try:\n",
    "    cur.execute(\"create database myfirstdb\")\n",
    "except psycopg2.Error as e:\n",
    "    print (e)    "
   ]
  },
  {
   "cell_type": "code",
   "execution_count": 13,
   "metadata": {},
   "outputs": [],
   "source": [
    "#.close is used to close connections, should be used when working between connections#\n",
    "try:\n",
    "     conn.close()\n",
    "except psycopg2.Error as e:\n",
    "     print(E)"
   ]
  },
  {
   "cell_type": "code",
   "execution_count": 15,
   "metadata": {},
   "outputs": [],
   "source": [
    "try:\n",
    "    conn = psycopg2.connect(\"host=localhost dbname=myfirstdb user=postgres password=password\")\n",
    "except psycopg2.Error as e:\n",
    "    print (\"Error: couldn't connect\")\n",
    "    print(e)\n",
    "\n",
    "try:\n",
    "    cur = conn.cursor()\n",
    "except psycopg2.Error as e:\n",
    "    print(\"Error: Could not get curser to the Database\")\n",
    "    print(e)    \n",
    "\n",
    "conn.set_session(autocommit=True)    \n"
   ]
  },
  {
   "cell_type": "code",
   "execution_count": 16,
   "metadata": {},
   "outputs": [],
   "source": [
    "try:\n",
    "    cur.execute(\"CREATE TABLE IF NOT EXISTS students (student_id int, name varchar, age int, gender varchar, subject varchar, marks int);\")\n",
    "except psycopg2.Error as e:\n",
    "    print (\"Error making table\")\n",
    "    print(e)    "
   ]
  },
  {
   "cell_type": "code",
   "execution_count": 27,
   "metadata": {},
   "outputs": [],
   "source": [
    "try:\n",
    "    cur.execute(\"INSERT INTO students (student_id, name, age, gender, subject, marks) \\\n",
    "                VALUES (%s,%s,%s,%s,%s,%s)\",\\\n",
    "                (2,\"Aaron\", 24, \"male\", \"History\", 100))\n",
    "except psycopg2.Error as e:\n",
    "    print(\"Error inserting rows\")\n",
    "    print(e)\n",
    "\n",
    "try:\n",
    "    cur.execute(\"SELECT * FROM students;\")\n",
    "except psycopg2.Error as e:\n",
    "    print (\"Error\")\n",
    "    print(e)\n",
    "\n",
    "    row = cur.fetchone()\n",
    "    while row:\n",
    "        print(row)\n",
    "        row = cur.fetchone()"
   ]
  },
  {
   "cell_type": "code",
   "execution_count": 25,
   "metadata": {},
   "outputs": [],
   "source": [
    "try:\n",
    "    cur.execute(\"SELECT * FROM students;\")\n",
    "except psycopg2.Error as e:\n",
    "    print (\"Error\")\n",
    "    print(e)\n",
    "\n",
    "    row = cur.fetchone()\n",
    "    while row:\n",
    "        print(row)\n",
    "        row = cur.fetchone()"
   ]
  },
  {
   "cell_type": "code",
   "execution_count": 29,
   "metadata": {},
   "outputs": [],
   "source": [
    "cur.close()\n",
    "conn.close()"
   ]
  },
  {
   "cell_type": "code",
   "execution_count": null,
   "metadata": {},
   "outputs": [],
   "source": []
  }
 ],
 "metadata": {
  "kernelspec": {
   "display_name": "Python 3",
   "language": "python",
   "name": "python3"
  },
  "language_info": {
   "codemirror_mode": {
    "name": "ipython",
    "version": 3
   },
   "file_extension": ".py",
   "mimetype": "text/x-python",
   "name": "python",
   "nbconvert_exporter": "python",
   "pygments_lexer": "ipython3",
   "version": "3.11.2"
  },
  "orig_nbformat": 4
 },
 "nbformat": 4,
 "nbformat_minor": 2
}
