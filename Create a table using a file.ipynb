{
 "cells": [
  {
   "attachments": {},
   "cell_type": "markdown",
   "metadata": {},
   "source": [
    "This file:\n",
    "    1. Creates a database\n",
    "    2. Connects to it\n",
    "    3. Reads a file\n",
    "    5. Creates a table for the file given and creates headers by reading the top row of the file\n",
    "    6. Populates the table made with data from file\n"
   ]
  },
  {
   "cell_type": "code",
   "execution_count": 5,
   "metadata": {},
   "outputs": [],
   "source": [
    "import psycopg2\n",
    "import pandas as pd"
   ]
  },
  {
   "cell_type": "code",
   "execution_count": 6,
   "metadata": {},
   "outputs": [],
   "source": [
    "try:\n",
    "    conn = psycopg2.connect(\"host=localhost dbname=postgres user=postgres password=password\")\n",
    "except psycopg2.Error as e:\n",
    "    print (\"Error: Could not make connection to the Postgres database\") \n",
    "    print (E)   "
   ]
  },
  {
   "cell_type": "code",
   "execution_count": 7,
   "metadata": {},
   "outputs": [],
   "source": [
    "try:\n",
    "    cur = conn.cursor()\n",
    "except psycopg2.Error as e:\n",
    "    print(\"Error: Could not get curser to the Database\")\n",
    "    print(e)"
   ]
  },
  {
   "cell_type": "code",
   "execution_count": 8,
   "metadata": {},
   "outputs": [],
   "source": [
    "conn.set_session(autocommit=True)"
   ]
  },
  {
   "cell_type": "code",
   "execution_count": 9,
   "metadata": {},
   "outputs": [],
   "source": [
    "try:\n",
    "    cur.execute(\"create database testdb\")\n",
    "except psycopg2.Error as e:\n",
    "    print (e)    "
   ]
  },
  {
   "cell_type": "code",
   "execution_count": 10,
   "metadata": {},
   "outputs": [],
   "source": [
    "try:\n",
    "     conn.close()\n",
    "except psycopg2.Error as e:\n",
    "     print(E)"
   ]
  },
  {
   "cell_type": "code",
   "execution_count": 11,
   "metadata": {},
   "outputs": [],
   "source": [
    "try:\n",
    "    conn = psycopg2.connect(\"host=localhost dbname=testdb user=postgres password=password\")\n",
    "except psycopg2.Error as e:\n",
    "    print (\"Error: Could not make connection to the Postgres database\") \n",
    "    print (E)   \n",
    "\n",
    "try:\n",
    "    cur = conn.cursor()\n",
    "except psycopg2.Error as e:\n",
    "    print(\"Error: Could not get curser to the Database\")\n",
    "    print(e)\n",
    "\n",
    "conn.set_session(autocommit=True)"
   ]
  },
  {
   "attachments": {},
   "cell_type": "markdown",
   "metadata": {},
   "source": [
    "The next 3 chunks of code should be seen as one:\n",
    "    1. Creates a table with the headers from the file\n",
    "    2. Executes command\n",
    "    3. Inserts data into the table"
   ]
  },
  {
   "cell_type": "code",
   "execution_count": 27,
   "metadata": {},
   "outputs": [],
   "source": [
    "with open(\"C:/Users/aaron/Downloads/stateschooldata1.csv\", 'r') as f:\n",
    "    reader = csv.reader(f)\n",
    "    headers = next(reader) # read the first row as headers\n",
    "\n",
    "    # create the CREATE TABLE statement using the headers\n",
    "    create_table_query = \"\"\"\n",
    "        CREATE TABLE schoolsnew (\n",
    "            {}\n",
    "        )\n",
    "        \"\"\".format(\", \".join('\"{}\" VARCHAR(255)'.format(h) for h in headers))"
   ]
  },
  {
   "cell_type": "code",
   "execution_count": 28,
   "metadata": {},
   "outputs": [],
   "source": [
    " cur.execute(create_table_query) # create the table with the headers as columns\n"
   ]
  },
  {
   "cell_type": "code",
   "execution_count": 33,
   "metadata": {},
   "outputs": [],
   "source": [
    "with open('C:/Users/aaron/Downloads/stateschooldata1.csv', 'r') as f:\n",
    "    reader = csv.reader(f)\n",
    "    headers = next(reader) # read the header row\n",
    "\n",
    "    for row in reader:\n",
    "        insert_query = \"\"\"\n",
    "            INSERT INTO schoolsnew ({})\n",
    "            VALUES ({})\n",
    "            \"\"\".format(\", \".join('\"{}\"'.format(h) for h in headers), \", \".join(['%s'] * len(row)))\n",
    "\n",
    "        cur.execute(insert_query, row)\n"
   ]
  },
  {
   "cell_type": "code",
   "execution_count": 34,
   "metadata": {},
   "outputs": [],
   "source": [
    "cur.close()\n",
    "conn.close()"
   ]
  },
  {
   "cell_type": "code",
   "execution_count": null,
   "metadata": {},
   "outputs": [],
   "source": []
  }
 ],
 "metadata": {
  "kernelspec": {
   "display_name": "Python 3",
   "language": "python",
   "name": "python3"
  },
  "language_info": {
   "codemirror_mode": {
    "name": "ipython",
    "version": 3
   },
   "file_extension": ".py",
   "mimetype": "text/x-python",
   "name": "python",
   "nbconvert_exporter": "python",
   "pygments_lexer": "ipython3",
   "version": "3.11.2"
  },
  "orig_nbformat": 4
 },
 "nbformat": 4,
 "nbformat_minor": 2
}
